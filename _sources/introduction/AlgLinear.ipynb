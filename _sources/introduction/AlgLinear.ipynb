{
  "cells": [
    {
      "cell_type": "markdown",
      "metadata": {
        "id": "Ow761xcKdLHc"
      },
      "source": [
        "# Uma revisão de Algebra Linear com Python\n",
        "\n",
        "Muitas áreas da Ciência da Computação trazem como requisito algum conhecimento de álgebra linear, seja direta ou indiretamente. Pela própria forma com que essas áreas interagem com álgebra linear, muita coisa pode ser entendida de forma indireta sem nunca se aprofundar diretamente nessa área da matemática.  \n",
        "Algumas dessas áreas são **Machine Learning**, **Deep Learning**, **processamento de imagens**, etc.  \n",
        "Para fazer uma revisão de Álgebra Linear em um contexto de computação então fazemos uso de uma linguagem de programação que é porta de entrada para essas áreas: **Python**, principalmente suas bibliotecas com foco matemático maior como **Numpy** e **Scipy**."
      ]
    },
    {
      "cell_type": "code",
      "execution_count": null,
      "metadata": {
        "id": "CfuUKdNpdJRF"
      },
      "outputs": [],
      "source": [
        "import numpy as np\n",
        "from scipy import linalg\n",
        "import tensorflow as tf"
      ]
    },
    {
      "cell_type": "markdown",
      "metadata": {
        "id": "FKH3MsgIf-1E"
      },
      "source": [
        "\n",
        "## Motivação: mil nomes para as mesmas coisas\n",
        "\n",
        "Muitas coisas na fronteira entre Ciência da Computação e Matemática podem ter nomes diferentes mesmo sendo iguais e nomes iguais mesmo sendo diferentes. Vamos ver algumas delas e como isso se relaciona com Álgebra Linear\n",
        "\n",
        "### Matrizes, arrays, listas, vetores\n",
        "\n",
        "Matrizes são uma daquelas coisas que pode ter vários nomes na computação dependendo para onde você for. De forma prática, uma **matriz** é uma tabela de elementos dispostos em linhas e colunas, sendo cada elemento um número.  \n",
        "Formalmente:  \n",
        "\n",
        "````{prf:definition}\n",
        "Uma *matriz* $m \\times n$ sobre um corpo $F$ é uma função $A$ do par de inteiros $(i, j)$, com $1 \\leq i \\leq m, 1 \\leq j \\leq n$, no corpo $F$. Sendo cada elemento um *escalar* representado por $A(i, j) = A_{ij}$. [Hoff71]\n",
        "````\n",
        "\n",
        "(Se você não entendeu nada e não sabe o que é um \"corpo\" e tudo mais, calma que é normal, essa definição vai ficar mais clara no decorrer do texto).\n",
        "\n",
        "Para simbolizar uma matriz em uma linguagem de programação é utilizada a noção de *Array*, traduzida normalmente por *vetor*. Normalmente um array é uma matriz $1 \\times m$, ou seja, uma matriz de 1 linha e m colunas. Arrays de mais de uma linha são chamados de *multidimensional arrays*, ou simplesmente matrizes.  \n",
        "Em linguagens de alto nível como python, o conceito de arrays e lista se confunde e, diferente da definição matemática de matrizes, os arrays em python não tem tamanho limite explícito.  \n",
        "Em C, por exemplo, arrays possuem tamanho limite (na verdade se forem alocados não, mas isso é outro texto). Por exemplo, uma matriz quadrada $2 \\times 2$ é representada por:\n",
        "``` C\n",
        "int matrizQuadrada[2][2];\n",
        "// ou se você quiser alocar diretamente:\n",
        "int **matrizQuadrada = (int **)malloc(2 * sizeof(int *));\n",
        "for(int i = 0; i < m; i++) matrizQuadrada[i] = (int *)malloc(2 * sizeof(int));\n",
        "```\n",
        "Em python, para alocar um array podemos utilizar as listas nativas da linguagem:\n",
        "\n",
        "\n"
      ]
    },
    {
      "cell_type": "code",
      "execution_count": null,
      "metadata": {
        "colab": {
          "base_uri": "https://localhost:8080/"
        },
        "id": "hls15BWewdwJ",
        "outputId": "ee10f442-a107-45b6-8289-f1806a342f3a"
      },
      "outputs": [
        {
          "name": "stdout",
          "output_type": "stream",
          "text": [
            "a00 = 1 a01 = 2 \n",
            "a10 = 3 a11 = 4 \n"
          ]
        }
      ],
      "source": [
        "# Lista nativa:\n",
        "matriz_quadrada = [[1, 2],\n",
        "                  [3, 4]]\n",
        "\n",
        "# Codigo para acessar cada elemento:\n",
        "m = len(matriz_quadrada)\n",
        "n = len(matriz_quadrada[1])\n",
        "for i in range(m):\n",
        "  for j in range(n):\n",
        "    print('a{}{} = {} '.format(i, j, matriz_quadrada[i][j]), end=\"\")\n",
        "  print('')\n"
      ]
    },
    {
      "cell_type": "markdown",
      "metadata": {
        "id": "-2c2hN0Uxd4B"
      },
      "source": [
        "Uma questão que surge com as listas de Python, principalmente voltado para computação mais pesada, é que elas são lentas demais em algumas questões. Então, normalmente, utilizamos as listas de numpy para criar arrays mais eficientes.  "
      ]
    },
    {
      "cell_type": "code",
      "execution_count": null,
      "metadata": {
        "colab": {
          "base_uri": "https://localhost:8080/"
        },
        "id": "vADmuAWBxdO_",
        "outputId": "c419d29b-a55d-4d36-ca0c-768dbc79982c"
      },
      "outputs": [
        {
          "name": "stdout",
          "output_type": "stream",
          "text": [
            "a00 = 2 a01 = 4 \n",
            "a10 = 6 a11 = 8 \n"
          ]
        }
      ],
      "source": [
        "# Lista em Numpy\n",
        "matriz_quadrada_eficiente = np.array([[2, 4], [6, 8]])\n",
        "\n",
        "# Codigo para acessar cada elemento\n",
        "m = len(matriz_quadrada_eficiente)\n",
        "n = len(matriz_quadrada_eficiente[0])\n",
        "for i in range(m):\n",
        "  for j in range(n):\n",
        "    print('a{}{} = {} '.format(i, j, matriz_quadrada_eficiente[i, j]), end=\"\")\n",
        "  print('')\n"
      ]
    },
    {
      "cell_type": "markdown",
      "metadata": {
        "id": "gZQiaaNz0bye"
      },
      "source": [
        "### Tipos de Matrizes\n",
        "\n",
        "As operações e definições de matrizes vão ser mostradas quando entrar na definição de Espaço Vetorial. Mas por enquanto vamos definir alguns tipos de matrizes que serão úteis [Bold86]:\n",
        "\n",
        "1. Matriz Quadrada: matriz cujo número de linhas e de colunas é o mesmo ($m = n$)\n",
        "2. Matriz Nula: matriz onde todos os elementos são zero ($\\forall i \\forall j (a_{ij} = 0)$)\n",
        "3. Matriz-Coluna: matriz que só possui 1 coluna, $n=1$ ou $m \\times 1$\n",
        "4. Matriz-Linha (na computação, array unidimensional): matriz que só possui 1 linha, $m=1$ ou $1 \\times n$\n",
        "5. Matriz Diagonal: matriz quadrada onde $a_{ij}=0$ se $i \\neq j$.\n",
        "6. Matriz Identidade: matriz quadrada representada por $I_m$ com elementos definidos por: $$a{ij} = \\begin{cases} \n",
        "      1 & i = j \\\\\n",
        "      0 & i \\neq j\n",
        "   \\end{cases}\n",
        "$$\n",
        "\n",
        "Em numpy, algumas delas podem ser definidas por:"
      ]
    },
    {
      "cell_type": "code",
      "execution_count": null,
      "metadata": {
        "colab": {
          "base_uri": "https://localhost:8080/"
        },
        "id": "ZwQiGob34acj",
        "outputId": "632f9579-7039-4998-ba06-a80dbbdec5e9"
      },
      "outputs": [
        {
          "data": {
            "text/plain": [
              "array([[0., 0.],\n",
              "       [0., 0.]])"
            ]
          },
          "execution_count": 17,
          "metadata": {},
          "output_type": "execute_result"
        }
      ],
      "source": [
        "# Matriz (quadrada) Nula)\n",
        "matriz_nula = np.zeros((2, 2))\n",
        "matriz_nula"
      ]
    },
    {
      "cell_type": "code",
      "execution_count": null,
      "metadata": {
        "colab": {
          "base_uri": "https://localhost:8080/"
        },
        "id": "cVTQTmeI5frc",
        "outputId": "145f74b7-9717-471c-fc29-66660eee36f8"
      },
      "outputs": [
        {
          "name": "stdout",
          "output_type": "stream",
          "text": [
            "[[1 0 0]\n",
            " [0 2 0]\n",
            " [0 0 3]]\n"
          ]
        }
      ],
      "source": [
        "# Matriz diagonal\n",
        "matriz_diagonal = np.diag([1, 2, 3])\n",
        "print(matriz_diagonal)"
      ]
    },
    {
      "cell_type": "code",
      "execution_count": null,
      "metadata": {
        "colab": {
          "base_uri": "https://localhost:8080/"
        },
        "id": "tVvjDBoA5iGi",
        "outputId": "e917400d-06ef-4487-9402-a2ec892b86fe"
      },
      "outputs": [
        {
          "name": "stdout",
          "output_type": "stream",
          "text": [
            "[[1. 0.]\n",
            " [0. 1.]]\n"
          ]
        }
      ],
      "source": [
        "# Matriz identidade\n",
        "matriz_identidade = np.eye(2)\n",
        "print(matriz_identidade)"
      ]
    },
    {
      "cell_type": "markdown",
      "metadata": {
        "id": "XaFHqka96Waa"
      },
      "source": [
        "### Um pequeno detour para falar de Tensores\n",
        "\n",
        "Bibliotecas de Machine Learning como TensorFlow utilizam estruturas chamadas de *tensores* para construir seus modelos. É aqui que coisas diferentes possuem o mesmo nome. Nesse ponto não vale a pena puxar a definição matemática de tensores porque ela utiliza termos e outras definições que ainda não foram introduzidas, mas a definição de tensores em TensorFlow é a mesma da de uma matriz, só tendo diferença em sua execução.  \n",
        "A diferença entre tensores e arrays de numpy é que tensores não podem ter sua dimensão nem seus valores modificados. Os tensores de tensorflow são divididos em ranks:\n",
        "1. Rank 0 (escalar): corresponde aos escalares ou matrizes 1x1\n",
        "2. Rank 1 (vetor): corresponde aos vetores unidimensionais (matriz linha)\n",
        "3. Rank 2 (matriz): corresponde a uma matriz $m \\times n$\n"
      ]
    },
    {
      "cell_type": "code",
      "execution_count": null,
      "metadata": {
        "colab": {
          "base_uri": "https://localhost:8080/"
        },
        "id": "T4Fl3vNS8o-B",
        "outputId": "1cd07312-e4c3-43d0-a97f-428dad74cc37"
      },
      "outputs": [
        {
          "name": "stdout",
          "output_type": "stream",
          "text": [
            "rank 0: 4\n",
            "rank 1: [2 3 4]\n",
            "rank 2: [[1 2]\n",
            " [3 4]\n",
            " [5 6]]\n"
          ]
        }
      ],
      "source": [
        "rank_0_tensor = tf.constant(4)\n",
        "print(\"rank 0: {}\".format(rank_0_tensor))\n",
        "\n",
        "rank_1_tensor = tf.constant([2, 3, 4])\n",
        "print(\"rank 1: {}\".format(rank_1_tensor))\n",
        "\n",
        "rank_2_tensor = tf.constant([[1, 2],\n",
        "                             [3, 4],\n",
        "                             [5, 6]])\n",
        "print(\"rank 2: {}\".format(rank_2_tensor))"
      ]
    },
    {
      "cell_type": "markdown",
      "metadata": {
        "id": "EdOZ9jLrEgCA"
      },
      "source": [
        "## Bibliografia\n",
        "[Bold86] - Boldrini, J. L. Algebra Linear. Harbra, 1986.  \n",
        "[Hoff71] - Hoffman, K.M and Kunze, R. Linear Algebra. Prentice Hall, 1971."
      ]
    }
  ],
  "metadata": {
    "colab": {
      "name": "AlgLinear.ipynb",
      "provenance": []
    },
    "kernelspec": {
      "display_name": "Python 3",
      "name": "python3"
    },
    "language_info": {
      "name": "python"
    }
  },
  "nbformat": 4,
  "nbformat_minor": 0
}
