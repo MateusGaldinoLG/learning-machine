{
  "cells": [
    {
      "cell_type": "markdown",
      "metadata": {
        "id": "vPWuQO7L3iw3"
      },
      "source": [
        "# ML 1 (Self studies)\n",
        "\n",
        "## Ordinary Least Squares\n",
        "\n",
        "Coming from an **overdetermined system** (System with more equations than unknowns), a model can be made to predict the values. The difference between an observed value and a value given by such a model is called a **residual**.  \n",
        "The method of **least squares** is used to minimize the sum of the squares of the residuals made in the results of each individual equation in the system.\n",
        "The **ordinary least squares**(OLS) is used for estimating the unknown parameters in a linear regression model.  \n",
        "In a 2d model, the response variable *$y_i$* is given by a linear equation of the form *$y = mx + b$*, written as *$y(w, x) = w_0 + w_1x_1$*.  \n",
        "the vector w is the vector of unknown parameters, *$w = (w_1, w_2, ..., w_n)$*, with X being the matrix nxm of values and y the matrix of response variables. The general form is: $$y = Xw$$ (Xw - y)  \n",
        "The general equation for coefficients that minimize the cost function has the form: $$\\theta = (X^TX)^{-1}X^Ty$$\n",
        "\n",
        "We can test this equation using numpy\n",
        "\n",
        "The OLS method has a complexity of *$O(n_{samples}n^2_{features})$*, where $n_{samples} \\geq n_{features}$. The matrix inversion $(X^TX)^{-1}$ has *$O(n^3)$* complexity but the scikit learn inversion has a lesser complexity of *$O(n^2)$*\n"
      ]
    },
    {
      "cell_type": "code",
      "execution_count": 2,
      "metadata": {
        "colab": {
          "base_uri": "https://localhost:8080/",
          "height": 300
        },
        "id": "noCfG3TGLUZU",
        "outputId": "fe9b16c6-b68d-45b3-a8ad-c1861dd961df"
      },
      "outputs": [
        {
          "name": "stderr",
          "output_type": "stream",
          "text": [
            "Matplotlib is building the font cache; this may take a moment.\n"
          ]
        },
        {
          "name": "stdout",
          "output_type": "stream",
          "text": [
            "[[4.17986451]\n",
            " [2.6145382 ]]\n"
          ]
        },
        {
          "data": {
            "image/png": "[encoded data removed]",
            "text/plain": [
              "<Figure size 432x288 with 1 Axes>"
            ]
          },
          "metadata": {
            "needs_background": "light"
          },
          "output_type": "display_data"
        }
      ],
      "source": [
        "import numpy as np\n",
        "import matplotlib.pyplot as plt\n",
        "\n",
        "# base equation\n",
        "X = np.random.rand(100, 1)\n",
        "y = 4 + 3*X + np.random.randn(100, 1)\n",
        "\n",
        "# computing theta\n",
        "X_b = np.c_[np.ones((100, 1)), X] # add x0 = 1 to each instance\n",
        "# X_b.T => transpose of X_b\n",
        "theta_best = np.linalg.inv(X_b.T.dot(X_b)).dot(X_b.T).dot(y)\n",
        "print(theta_best)\n",
        "\n",
        "plt.scatter(X, y, color=\"blue\")\n",
        "plt.show()\n"
      ]
    },
    {
      "cell_type": "code",
      "execution_count": 3,
      "metadata": {
        "colab": {
          "base_uri": "https://localhost:8080/"
        },
        "id": "WzwOArpoMvbn",
        "outputId": "bf1f865b-ff9e-4100-c768-7b7cedc4cc41"
      },
      "outputs": [
        {
          "data": {
            "text/plain": [
              "array([[4.17986451],\n",
              "       [9.40894092]])"
            ]
          },
          "execution_count": 3,
          "metadata": {},
          "output_type": "execute_result"
        }
      ],
      "source": [
        "# Making predictions\n",
        "\n",
        "X_new = np.array([[0], [2]])\n",
        "X_new_b = np.c_[np.ones((2, 1)), X_new]\n",
        "y_predict = X_new_b.dot(theta_best)\n",
        "y_predict\n"
      ]
    },
    {
      "cell_type": "code",
      "execution_count": 4,
      "metadata": {
        "colab": {
          "base_uri": "https://localhost:8080/",
          "height": 265
        },
        "id": "Dx-Hv4aONTxF",
        "outputId": "52d95e87-8114-4386-e38a-f471e1d3f5fc"
      },
      "outputs": [
        {
          "data": {
            "image/png": "[encoded data removed]",
            "text/plain": [
              "<Figure size 432x288 with 1 Axes>"
            ]
          },
          "metadata": {
            "needs_background": "light"
          },
          "output_type": "display_data"
        }
      ],
      "source": [
        "# Plottin the predictions\n",
        "plt.plot(X_new, y_predict, \"r-\")\n",
        "plt.plot(X, y, \"b.\")\n",
        "plt.axis([0, 1, 0, 15]) # [xmin, xmax, ymin, ymax]\n",
        "plt.show()"
      ]
    },
    {
      "cell_type": "markdown",
      "metadata": {
        "id": "n8IQwjse7wLI"
      },
      "source": [
        "## Sci-kit Learn implementation\n",
        "the function fit receives X and y in the form fit(X, y) and the propertie coef_ gives the vector w of minimum coefficients.  \n",
        "Scikit learn uses the \"least squares\" function of scipy, which in turn uses an *pseudoinverse* (Moore-Penrose inverse) with the form $\\theta = X^+y$ (This approach of pseudoinverses is more efficient and can be used even if $X^TX$ is not inversible (det !=0))"
      ]
    },
    {
      "cell_type": "code",
      "execution_count": 5,
      "metadata": {
        "colab": {
          "base_uri": "https://localhost:8080/"
        },
        "id": "VGF8llM47mzy",
        "outputId": "2b53872a-2bfd-4187-aa45-df69c4ac4bf6"
      },
      "outputs": [
        {
          "data": {
            "text/plain": [
              "array([0.5, 0.5])"
            ]
          },
          "execution_count": 5,
          "metadata": {},
          "output_type": "execute_result"
        }
      ],
      "source": [
        "from sklearn import linear_model\n",
        "reg = linear_model.LinearRegression()\n",
        "reg.fit([[0, 0], [1, 1], [2, 2]], [0, 1, 2])\n",
        "\n",
        "reg.coef_"
      ]
    },
    {
      "cell_type": "markdown",
      "metadata": {
        "id": "KL_jKk0A8RSj"
      },
      "source": [
        "### Sklearn example\n"
      ]
    },
    {
      "cell_type": "code",
      "execution_count": 6,
      "metadata": {
        "id": "wOI71bvT8ZWC"
      },
      "outputs": [],
      "source": [
        "import matplotlib.pyplot as plt\n",
        "import numpy as np\n",
        "from sklearn import datasets, linear_model\n",
        "from sklearn.metrics import mean_squared_error, r2_score"
      ]
    },
    {
      "cell_type": "code",
      "execution_count": 7,
      "metadata": {
        "colab": {
          "base_uri": "https://localhost:8080/",
          "height": 334
        },
        "id": "OG8qMM3A8-kb",
        "outputId": "4bf93ced-8cb0-4e84-de6a-3de0268f7887"
      },
      "outputs": [
        {
          "name": "stdout",
          "output_type": "stream",
          "text": [
            "Coefficients: \n",
            " [938.23786125]\n",
            "Mean squared error: 2548.07\n",
            "Coefficient of determination: 0.47\n"
          ]
        },
        {
          "data": {
            "image/png": "[encoded data removed]",
            "text/plain": [
              "<Figure size 432x288 with 1 Axes>"
            ]
          },
          "metadata": {
            "needs_background": "light"
          },
          "output_type": "display_data"
        }
      ],
      "source": [
        "# load the diabetes dataset\n",
        "diabetes_X, diabetes_y = datasets.load_diabetes(return_X_y=True)\n",
        "\n",
        "# Use only one feature\n",
        "diabetes_X = diabetes_X[:, np.newaxis, 2] #np.newaxis => takes array and transforms it in a matrix\n",
        "\n",
        "#------------------------------data splitting\n",
        "\n",
        "# split the data into training/testing sets\n",
        "diabetes_X_train = diabetes_X[:-20]\n",
        "diabetes_X_test = diabetes_X[-20:]\n",
        "\n",
        "# split the targets into training/testing sets\n",
        "diabetes_y_train = diabetes_y[:-20]\n",
        "diabetes_y_test = diabetes_y[-20:]\n",
        "\n",
        "#------------------------------regression\n",
        "\n",
        "# linear regression\n",
        "regr = linear_model.LinearRegression()\n",
        "\n",
        "# train the model using the training sets\n",
        "regr.fit(diabetes_X_train, diabetes_y_train)\n",
        "\n",
        "# make predictions using the testing set\n",
        "# Using the coefficients, it predicts the y through the x\n",
        "diabetes_y_pred = regr.predict(diabetes_X_test)\n",
        "\n",
        "print(\"Coefficients: \\n\", regr.coef_)\n",
        "print(\"Mean squared error: %.2f\" % mean_squared_error(diabetes_y_test, diabetes_y_pred))\n",
        "print(\"Coefficient of determination: %.2f\" % r2_score(diabetes_y_test, diabetes_y_pred))\n",
        "\n",
        "plt.scatter(diabetes_X_test, diabetes_y_test, color=\"black\", label=\"testing values\") #pontos originais\n",
        "plt.plot(diabetes_X_test, diabetes_y_pred, color=\"blue\", linewidth=3, label=\"predicted values\") #plotting da predição\n",
        "plt.legend()\n",
        "\n",
        "plt.show()\n",
        "\n",
        "\n"
      ]
    },
    {
      "cell_type": "markdown",
      "metadata": {
        "id": "thModNFa8yq1"
      },
      "source": [
        "### Bibliography\n",
        "\n",
        "https://en.wikipedia.org/wiki/Ordinary_least_squares  \n",
        "https://en.wikipedia.org/wiki/Coefficient_of_determination  \n",
        "https://en.wikipedia.org/wiki/Moore%E2%80%93Penrose_inverse  \n",
        "https://en.wikipedia.org/wiki/Computational_complexity_of_mathematical_operations#Matrix_algebra\n",
        "\n",
        "https://scikit-learn.org/stable/modules/linear_model.html  \n",
        "https://scikit-learn.org/stable/auto_examples/linear_model/plot_ols.html#sphx-glr-auto-examples-linear-model-plot-ols-py\n",
        "\n",
        "Hands-On machine learning wich Scikit-Learn and TensorFlow pp.113-119 (From now on Géron[2019]"
      ]
    },
    {
      "cell_type": "markdown",
      "metadata": {
        "id": "f6jGgse9zjLx"
      },
      "source": [
        "## Ridge Regression\n",
        "\n",
        "The Ridge regression (Also called *Tikhonov regularization*) is a type of regression which adresses some of the problems of Ordinary Least Squares by imposing a penalty on the size of the coefficients.\n",
        "\n",
        "### Multicollinearity\n",
        "OLS have a problem with **multicollinearity**, where an independent variable can be predicted from another independent variable in a regression model. Because the variables are highly correlated, the individual effects of each variable in y cannot be easily distinguished  \n",
        "Many methods are used to detect multicollinearity, being one of them the **variance inflation factor**, defined as: $$VIF = \\frac{1}{1-R_j^2}$$ where $R_j$ is the coefficient of determination of a regression explanator j.  \n",
        "If VIF is above 5 or 10, the dataset has a multicollinearity problem\n",
        "\n",
        "### Ridge\n",
        "\n",
        "The ridge coefficients are multiplied by an **amout of shrinkage** $\\alpha$, where $\\alpha \\geq 0$. The larger its value, the greater the amount of shrinkage and thus the coefficients become more robust to collinearity  \n",
        "The matrix of coefficients can be written as $$\\beta_{ridge} = (X^TX + \\alpha I_p)^{-1}X^Ty$$ Where Ip is the pxp identity matrix.  \n",
        "If $\\alpha$ is very large, then all wieghts end up very close to zero and the result is a flat line going through the data's mean\n",
        "\n",
        "### Scikit learn implementation"
      ]
    },
    {
      "cell_type": "code",
      "execution_count": 8,
      "metadata": {
        "colab": {
          "base_uri": "https://localhost:8080/"
        },
        "id": "u3Ybe-xC2jf2",
        "outputId": "daa1621c-0337-4e05-933c-9ea5e2afc122"
      },
      "outputs": [
        {
          "data": {
            "text/plain": [
              "array([0.34545455, 0.34545455])"
            ]
          },
          "execution_count": 8,
          "metadata": {},
          "output_type": "execute_result"
        }
      ],
      "source": [
        "from sklearn import linear_model\n",
        "reg = linear_model.Ridge(alpha = 0.5)\n",
        "reg.fit([[0, 0], [0, 0], [1, 1]], [0, .1, 1])\n",
        "reg.coef_"
      ]
    },
    {
      "cell_type": "markdown",
      "metadata": {
        "id": "KepJXBM_ATs4"
      },
      "source": [
        "### Sklearn example 1 (plot ridge coefficients as a function)"
      ]
    },
    {
      "cell_type": "code",
      "execution_count": 9,
      "metadata": {
        "colab": {
          "base_uri": "https://localhost:8080/",
          "height": 299
        },
        "id": "OWaOQu5GAZvD",
        "outputId": "94349e78-88a0-4b3e-88e5-adafa4fb1de9"
      },
      "outputs": [
        {
          "data": {
            "image/png": "[encoded data removed]",
            "text/plain": [
              "<Figure size 432x288 with 1 Axes>"
            ]
          },
          "metadata": {
            "needs_background": "light"
          },
          "output_type": "display_data"
        }
      ],
      "source": [
        "import numpy as np\n",
        "import matplotlib.pyplot as plt\n",
        "from sklearn import linear_model\n",
        "\n",
        "# X is the 10x10 Hilbert matrix\n",
        "X = 1.0 / (np.arange(1, 11) + np.arange(0, 10)[:, np.newaxis])\n",
        "y = np.ones(10)\n",
        "\n",
        "n_alphas = 200\n",
        "alphas = np.logspace(-10, -2, n_alphas)\n",
        "\n",
        "coefs = []\n",
        "\n",
        "for a in alphas:\n",
        "  ridge = linear_model.Ridge(alpha=a, fit_intercept=False)\n",
        "  ridge.fit(X, y)\n",
        "  coefs.append(ridge.coef_)\n",
        "\n",
        "ax = plt.gca()\n",
        "\n",
        "ax.plot(alphas, coefs)\n",
        "\n",
        "ax.set_xscale(\"log\")\n",
        "ax.set_xlim(ax.get_xlim()[::-1]) #reverse axis\n",
        "plt.xlabel(\"Alpha\")\n",
        "plt.ylabel(\"weights\")\n",
        "plt.title(\"Ridge coefficients as a function of the regularization\")\n",
        "plt.axis(\"tight\")\n",
        "plt.show()\n"
      ]
    },
    {
      "cell_type": "markdown",
      "metadata": {
        "id": "yMy-QKPHU_DQ"
      },
      "source": [
        "### Common pitfalls"
      ]
    },
    {
      "cell_type": "code",
      "execution_count": 10,
      "metadata": {
        "id": "qLmrqJ8kVCJg"
      },
      "outputs": [],
      "source": [
        "import numpy as np\n",
        "import scipy as sp\n",
        "import pandas as pd\n",
        "import matplotlib.pyplot as plt\n",
        "import seaborn as sns"
      ]
    },
    {
      "cell_type": "code",
      "execution_count": 11,
      "metadata": {
        "id": "Q5S5fbACVGd0"
      },
      "outputs": [],
      "source": [
        "from sklearn.datasets import fetch_openml\n",
        "\n",
        "survey = fetch_openml(data_id=534, as_frame=True)"
      ]
    },
    {
      "cell_type": "code",
      "execution_count": 12,
      "metadata": {
        "colab": {
          "base_uri": "https://localhost:8080/"
        },
        "id": "QVc7A0XCV5Bp",
        "outputId": "7fbd157e-ef3e-4597-b50f-c74c7424aad3"
      },
      "outputs": [
        {
          "data": {
            "text/plain": [
              "{'data':      EDUCATION SOUTH     SEX  EXPERIENCE       UNION   AGE      RACE  \\\n",
              " 0          8.0    no  female        21.0  not_member  35.0  Hispanic   \n",
              " 1          9.0    no  female        42.0  not_member  57.0     White   \n",
              " 2         12.0    no    male         1.0  not_member  19.0     White   \n",
              " 3         12.0    no    male         4.0  not_member  22.0     White   \n",
              " 4         12.0    no    male        17.0  not_member  35.0     White   \n",
              " ..         ...   ...     ...         ...         ...   ...       ...   \n",
              " 529       18.0    no    male         5.0  not_member  29.0     White   \n",
              " 530       12.0    no  female        33.0  not_member  51.0     Other   \n",
              " 531       17.0    no  female        25.0      member  48.0     Other   \n",
              " 532       12.0   yes    male        13.0      member  31.0     White   \n",
              " 533       16.0    no    male        33.0  not_member  55.0     White   \n",
              " \n",
              "        OCCUPATION         SECTOR       MARR  \n",
              " 0           Other  Manufacturing    Married  \n",
              " 1           Other  Manufacturing    Married  \n",
              " 2           Other  Manufacturing  Unmarried  \n",
              " 3           Other          Other  Unmarried  \n",
              " 4           Other          Other    Married  \n",
              " ..            ...            ...        ...  \n",
              " 529  Professional          Other  Unmarried  \n",
              " 530  Professional          Other    Married  \n",
              " 531  Professional          Other    Married  \n",
              " 532  Professional          Other    Married  \n",
              " 533  Professional  Manufacturing    Married  \n",
              " \n",
              " [534 rows x 10 columns],\n",
              " 'target': 0       5.10\n",
              " 1       4.95\n",
              " 2       6.67\n",
              " 3       4.00\n",
              " 4       7.50\n",
              "        ...  \n",
              " 529    11.36\n",
              " 530     6.10\n",
              " 531    23.25\n",
              " 532    19.88\n",
              " 533    15.38\n",
              " Name: WAGE, Length: 534, dtype: float64,\n",
              " 'frame':      EDUCATION SOUTH     SEX  EXPERIENCE       UNION   WAGE   AGE      RACE  \\\n",
              " 0          8.0    no  female        21.0  not_member   5.10  35.0  Hispanic   \n",
              " 1          9.0    no  female        42.0  not_member   4.95  57.0     White   \n",
              " 2         12.0    no    male         1.0  not_member   6.67  19.0     White   \n",
              " 3         12.0    no    male         4.0  not_member   4.00  22.0     White   \n",
              " 4         12.0    no    male        17.0  not_member   7.50  35.0     White   \n",
              " ..         ...   ...     ...         ...         ...    ...   ...       ...   \n",
              " 529       18.0    no    male         5.0  not_member  11.36  29.0     White   \n",
              " 530       12.0    no  female        33.0  not_member   6.10  51.0     Other   \n",
              " 531       17.0    no  female        25.0      member  23.25  48.0     Other   \n",
              " 532       12.0   yes    male        13.0      member  19.88  31.0     White   \n",
              " 533       16.0    no    male        33.0  not_member  15.38  55.0     White   \n",
              " \n",
              "        OCCUPATION         SECTOR       MARR  \n",
              " 0           Other  Manufacturing    Married  \n",
              " 1           Other  Manufacturing    Married  \n",
              " 2           Other  Manufacturing  Unmarried  \n",
              " 3           Other          Other  Unmarried  \n",
              " 4           Other          Other    Married  \n",
              " ..            ...            ...        ...  \n",
              " 529  Professional          Other  Unmarried  \n",
              " 530  Professional          Other    Married  \n",
              " 531  Professional          Other    Married  \n",
              " 532  Professional          Other    Married  \n",
              " 533  Professional  Manufacturing    Married  \n",
              " \n",
              " [534 rows x 11 columns],\n",
              " 'categories': None,\n",
              " 'feature_names': ['EDUCATION',\n",
              "  'SOUTH',\n",
              "  'SEX',\n",
              "  'EXPERIENCE',\n",
              "  'UNION',\n",
              "  'AGE',\n",
              "  'RACE',\n",
              "  'OCCUPATION',\n",
              "  'SECTOR',\n",
              "  'MARR'],\n",
              " 'target_names': ['WAGE'],\n",
              " 'DESCR': '**Author**:   \\n**Source**: Unknown - Date unknown  \\n**Please cite**:   \\n\\nDeterminants of Wages from the 1985 Current Population Survey\\n\\nSummary:\\nThe Current Population Survey (CPS) is used to supplement census information between census years. These data consist of a random sample of 534 persons from the CPS, with information on wages and other characteristics of the workers, including sex, number of years of education, years of work experience, occupational status, region of residence and union membership. We wish to determine (i) whether wages are related to these characteristics and (ii) whether there is a gender gap in wages.\\nBased on residual plots, wages were log-transformed to stabilize the variance. Age and work experience were almost perfectly correlated (r=.98). Multiple regression of log wages against sex, age, years of education, work experience, union membership, southern residence, and occupational status showed that these covariates were related to wages (pooled F test, p < .0001). The effect of age was not significant after controlling for experience. Standardized residual plots showed no patterns, except for one large outlier with lower wages than expected. This was a male, with 22 years of experience and 12 years of education, in a management position, who lived in the north and was not a union member. Removing this person from the analysis did not substantially change the results, so that the final model included the entire sample.\\nAdjusting for all other variables in the model, females earned 81% (75%, 88%) the wages of males (p < .0001). Wages increased 41% (28%, 56%) for every 5 additional years of education (p < .0001). They increased by 11% (7%, 14%) for every additional 10 years of experience (p < .0001). Union members were paid 23% (12%, 36%) more than non-union members (p < .0001). Northerns were paid 11% (2%, 20%) more than southerns (p =.016). Management and professional positions were paid most, and service and clerical positions were paid least (pooled F-test, p < .0001). Overall variance explained was R2 = .35.\\nIn summary, many factors describe the variations in wages: occupational status, years of experience, years of education, sex, union membership and region of residence. However, despite adjustment for all factors that were available, there still appeared to be a gender gap in wages. There is no readily available explanation for this gender gap.\\n\\nAuthorization: Public Domain\\n\\nReference: Berndt, ER. The Practice of Econometrics. 1991. NY: Addison-Wesley.\\n\\nDescription:  The datafile contains 534 observations on 11 variables sampled from the Current Population Survey of 1985.  This data set demonstrates multiple regression, confounding, transformations, multicollinearity, categorical variables, ANOVA, pooled tests of significance, interactions and model building strategies.\\n\\nVariable names in order from left to right:\\nEDUCATION: Number of years of education.\\nSOUTH: Indicator variable for Southern Region (1=Person lives in \\t\\tSouth, 0=Person lives elsewhere).\\nSEX: Indicator variable for sex (1=Female, 0=Male).\\nEXPERIENCE: Number of years of work experience.\\nUNION: Indicator variable for union membership (1=Union member, \\t\\t0=Not union member).\\nWAGE: Wage (dollars per hour).\\nAGE: Age (years).\\nRACE: Race (1=Other, 2=Hispanic, 3=White).\\nOCCUPATION: Occupational category (1=Management, \\t\\t2=Sales, 3=Clerical, 4=Service, 5=Professional, 6=Other).\\nSECTOR: Sector (0=Other, 1=Manufacturing, 2=Construction).\\nMARR: Marital Status (0=Unmarried,  1=Married)\\n\\n\\nTherese Stukel\\nDartmouth Hitchcock Medical Center\\nOne Medical Center Dr.\\nLebanon, NH 03756\\ne-mail: stukel@dartmouth.edu\\n\\n\\nInformation about the dataset\\nCLASSTYPE: numeric\\nCLASSINDEX: none specific\\n\\nDownloaded from openml.org.',\n",
              " 'details': {'id': '534',\n",
              "  'name': 'cps_85_wages',\n",
              "  'version': '1',\n",
              "  'description_version': '1',\n",
              "  'format': 'ARFF',\n",
              "  'creator': ['D. and Rubinfeld', \"D.L. 'Hedonic\"],\n",
              "  'contributor': 'Therese Stukel',\n",
              "  'collection_date': '1985',\n",
              "  'upload_date': '2014-09-29T00:08:13',\n",
              "  'language': 'English',\n",
              "  'licence': 'Public',\n",
              "  'url': 'https://api.openml.org/data/v1/download/52646/cps_85_wages.arff',\n",
              "  'parquet_url': 'http://openml1.win.tue.nl/dataset534/dataset_534.pq',\n",
              "  'file_id': '52646',\n",
              "  'default_target_attribute': 'WAGE',\n",
              "  'tag': 'OpenML-Reg19',\n",
              "  'visibility': 'public',\n",
              "  'minio_url': 'http://openml1.win.tue.nl/dataset534/dataset_534.pq',\n",
              "  'status': 'active',\n",
              "  'processing_date': '2020-11-20 20:35:45',\n",
              "  'md5_checksum': '5fd1cadd7665efa170ee99e0dd07f07f'},\n",
              " 'url': 'https://www.openml.org/d/534'}"
            ]
          },
          "execution_count": 12,
          "metadata": {},
          "output_type": "execute_result"
        }
      ],
      "source": [
        "survey"
      ]
    },
    {
      "cell_type": "code",
      "execution_count": 13,
      "metadata": {
        "colab": {
          "base_uri": "https://localhost:8080/",
          "height": 394
        },
        "id": "wMHDCOiZVQbp",
        "outputId": "789934a1-c82e-47cb-ad9e-d5ba51507c0d"
      },
      "outputs": [
        {
          "data": {
            "text/html": [
              "<div>\n",
              "<style scoped>\n",
              "    .dataframe tbody tr th:only-of-type {\n",
              "        vertical-align: middle;\n",
              "    }\n",
              "\n",
              "    .dataframe tbody tr th {\n",
              "        vertical-align: top;\n",
              "    }\n",
              "\n",
              "    .dataframe thead th {\n",
              "        text-align: right;\n",
              "    }\n",
              "</style>\n",
              "<table border=\"1\" class=\"dataframe\">\n",
              "  <thead>\n",
              "    <tr style=\"text-align: right;\">\n",
              "      <th></th>\n",
              "      <th>EDUCATION</th>\n",
              "      <th>SOUTH</th>\n",
              "      <th>SEX</th>\n",
              "      <th>EXPERIENCE</th>\n",
              "      <th>UNION</th>\n",
              "      <th>AGE</th>\n",
              "      <th>RACE</th>\n",
              "      <th>OCCUPATION</th>\n",
              "      <th>SECTOR</th>\n",
              "      <th>MARR</th>\n",
              "    </tr>\n",
              "  </thead>\n",
              "  <tbody>\n",
              "    <tr>\n",
              "      <th>count</th>\n",
              "      <td>534.000000</td>\n",
              "      <td>534</td>\n",
              "      <td>534</td>\n",
              "      <td>534.000000</td>\n",
              "      <td>534</td>\n",
              "      <td>534.000000</td>\n",
              "      <td>534</td>\n",
              "      <td>534</td>\n",
              "      <td>534</td>\n",
              "      <td>534</td>\n",
              "    </tr>\n",
              "    <tr>\n",
              "      <th>unique</th>\n",
              "      <td>NaN</td>\n",
              "      <td>2</td>\n",
              "      <td>2</td>\n",
              "      <td>NaN</td>\n",
              "      <td>2</td>\n",
              "      <td>NaN</td>\n",
              "      <td>3</td>\n",
              "      <td>6</td>\n",
              "      <td>3</td>\n",
              "      <td>2</td>\n",
              "    </tr>\n",
              "    <tr>\n",
              "      <th>top</th>\n",
              "      <td>NaN</td>\n",
              "      <td>no</td>\n",
              "      <td>male</td>\n",
              "      <td>NaN</td>\n",
              "      <td>not_member</td>\n",
              "      <td>NaN</td>\n",
              "      <td>White</td>\n",
              "      <td>Other</td>\n",
              "      <td>Other</td>\n",
              "      <td>Married</td>\n",
              "    </tr>\n",
              "    <tr>\n",
              "      <th>freq</th>\n",
              "      <td>NaN</td>\n",
              "      <td>378</td>\n",
              "      <td>289</td>\n",
              "      <td>NaN</td>\n",
              "      <td>438</td>\n",
              "      <td>NaN</td>\n",
              "      <td>440</td>\n",
              "      <td>156</td>\n",
              "      <td>411</td>\n",
              "      <td>350</td>\n",
              "    </tr>\n",
              "    <tr>\n",
              "      <th>mean</th>\n",
              "      <td>13.018727</td>\n",
              "      <td>NaN</td>\n",
              "      <td>NaN</td>\n",
              "      <td>17.822097</td>\n",
              "      <td>NaN</td>\n",
              "      <td>36.833333</td>\n",
              "      <td>NaN</td>\n",
              "      <td>NaN</td>\n",
              "      <td>NaN</td>\n",
              "      <td>NaN</td>\n",
              "    </tr>\n",
              "    <tr>\n",
              "      <th>std</th>\n",
              "      <td>2.615373</td>\n",
              "      <td>NaN</td>\n",
              "      <td>NaN</td>\n",
              "      <td>12.379710</td>\n",
              "      <td>NaN</td>\n",
              "      <td>11.726573</td>\n",
              "      <td>NaN</td>\n",
              "      <td>NaN</td>\n",
              "      <td>NaN</td>\n",
              "      <td>NaN</td>\n",
              "    </tr>\n",
              "    <tr>\n",
              "      <th>min</th>\n",
              "      <td>2.000000</td>\n",
              "      <td>NaN</td>\n",
              "      <td>NaN</td>\n",
              "      <td>0.000000</td>\n",
              "      <td>NaN</td>\n",
              "      <td>18.000000</td>\n",
              "      <td>NaN</td>\n",
              "      <td>NaN</td>\n",
              "      <td>NaN</td>\n",
              "      <td>NaN</td>\n",
              "    </tr>\n",
              "    <tr>\n",
              "      <th>25%</th>\n",
              "      <td>12.000000</td>\n",
              "      <td>NaN</td>\n",
              "      <td>NaN</td>\n",
              "      <td>8.000000</td>\n",
              "      <td>NaN</td>\n",
              "      <td>28.000000</td>\n",
              "      <td>NaN</td>\n",
              "      <td>NaN</td>\n",
              "      <td>NaN</td>\n",
              "      <td>NaN</td>\n",
              "    </tr>\n",
              "    <tr>\n",
              "      <th>50%</th>\n",
              "      <td>12.000000</td>\n",
              "      <td>NaN</td>\n",
              "      <td>NaN</td>\n",
              "      <td>15.000000</td>\n",
              "      <td>NaN</td>\n",
              "      <td>35.000000</td>\n",
              "      <td>NaN</td>\n",
              "      <td>NaN</td>\n",
              "      <td>NaN</td>\n",
              "      <td>NaN</td>\n",
              "    </tr>\n",
              "    <tr>\n",
              "      <th>75%</th>\n",
              "      <td>15.000000</td>\n",
              "      <td>NaN</td>\n",
              "      <td>NaN</td>\n",
              "      <td>26.000000</td>\n",
              "      <td>NaN</td>\n",
              "      <td>44.000000</td>\n",
              "      <td>NaN</td>\n",
              "      <td>NaN</td>\n",
              "      <td>NaN</td>\n",
              "      <td>NaN</td>\n",
              "    </tr>\n",
              "    <tr>\n",
              "      <th>max</th>\n",
              "      <td>18.000000</td>\n",
              "      <td>NaN</td>\n",
              "      <td>NaN</td>\n",
              "      <td>55.000000</td>\n",
              "      <td>NaN</td>\n",
              "      <td>64.000000</td>\n",
              "      <td>NaN</td>\n",
              "      <td>NaN</td>\n",
              "      <td>NaN</td>\n",
              "      <td>NaN</td>\n",
              "    </tr>\n",
              "  </tbody>\n",
              "</table>\n",
              "</div>"
            ],
            "text/plain": [
              "         EDUCATION SOUTH   SEX  EXPERIENCE       UNION         AGE   RACE  \\\n",
              "count   534.000000   534   534  534.000000         534  534.000000    534   \n",
              "unique         NaN     2     2         NaN           2         NaN      3   \n",
              "top            NaN    no  male         NaN  not_member         NaN  White   \n",
              "freq           NaN   378   289         NaN         438         NaN    440   \n",
              "mean     13.018727   NaN   NaN   17.822097         NaN   36.833333    NaN   \n",
              "std       2.615373   NaN   NaN   12.379710         NaN   11.726573    NaN   \n",
              "min       2.000000   NaN   NaN    0.000000         NaN   18.000000    NaN   \n",
              "25%      12.000000   NaN   NaN    8.000000         NaN   28.000000    NaN   \n",
              "50%      12.000000   NaN   NaN   15.000000         NaN   35.000000    NaN   \n",
              "75%      15.000000   NaN   NaN   26.000000         NaN   44.000000    NaN   \n",
              "max      18.000000   NaN   NaN   55.000000         NaN   64.000000    NaN   \n",
              "\n",
              "       OCCUPATION SECTOR     MARR  \n",
              "count         534    534      534  \n",
              "unique          6      3        2  \n",
              "top         Other  Other  Married  \n",
              "freq          156    411      350  \n",
              "mean          NaN    NaN      NaN  \n",
              "std           NaN    NaN      NaN  \n",
              "min           NaN    NaN      NaN  \n",
              "25%           NaN    NaN      NaN  \n",
              "50%           NaN    NaN      NaN  \n",
              "75%           NaN    NaN      NaN  \n",
              "max           NaN    NaN      NaN  "
            ]
          },
          "execution_count": 13,
          "metadata": {},
          "output_type": "execute_result"
        }
      ],
      "source": [
        "X = survey.data[survey.feature_names]\n",
        "X.describe(include=\"all\")"
      ]
    },
    {
      "cell_type": "code",
      "execution_count": 14,
      "metadata": {
        "colab": {
          "base_uri": "https://localhost:8080/",
          "height": 206
        },
        "id": "y7_7gzYMVtb3",
        "outputId": "10d19905-c69f-4408-9bd5-8ae4efa54e61"
      },
      "outputs": [
        {
          "data": {
            "text/html": [
              "<div>\n",
              "<style scoped>\n",
              "    .dataframe tbody tr th:only-of-type {\n",
              "        vertical-align: middle;\n",
              "    }\n",
              "\n",
              "    .dataframe tbody tr th {\n",
              "        vertical-align: top;\n",
              "    }\n",
              "\n",
              "    .dataframe thead th {\n",
              "        text-align: right;\n",
              "    }\n",
              "</style>\n",
              "<table border=\"1\" class=\"dataframe\">\n",
              "  <thead>\n",
              "    <tr style=\"text-align: right;\">\n",
              "      <th></th>\n",
              "      <th>EDUCATION</th>\n",
              "      <th>SOUTH</th>\n",
              "      <th>SEX</th>\n",
              "      <th>EXPERIENCE</th>\n",
              "      <th>UNION</th>\n",
              "      <th>AGE</th>\n",
              "      <th>RACE</th>\n",
              "      <th>OCCUPATION</th>\n",
              "      <th>SECTOR</th>\n",
              "      <th>MARR</th>\n",
              "    </tr>\n",
              "  </thead>\n",
              "  <tbody>\n",
              "    <tr>\n",
              "      <th>0</th>\n",
              "      <td>8.0</td>\n",
              "      <td>no</td>\n",
              "      <td>female</td>\n",
              "      <td>21.0</td>\n",
              "      <td>not_member</td>\n",
              "      <td>35.0</td>\n",
              "      <td>Hispanic</td>\n",
              "      <td>Other</td>\n",
              "      <td>Manufacturing</td>\n",
              "      <td>Married</td>\n",
              "    </tr>\n",
              "    <tr>\n",
              "      <th>1</th>\n",
              "      <td>9.0</td>\n",
              "      <td>no</td>\n",
              "      <td>female</td>\n",
              "      <td>42.0</td>\n",
              "      <td>not_member</td>\n",
              "      <td>57.0</td>\n",
              "      <td>White</td>\n",
              "      <td>Other</td>\n",
              "      <td>Manufacturing</td>\n",
              "      <td>Married</td>\n",
              "    </tr>\n",
              "    <tr>\n",
              "      <th>2</th>\n",
              "      <td>12.0</td>\n",
              "      <td>no</td>\n",
              "      <td>male</td>\n",
              "      <td>1.0</td>\n",
              "      <td>not_member</td>\n",
              "      <td>19.0</td>\n",
              "      <td>White</td>\n",
              "      <td>Other</td>\n",
              "      <td>Manufacturing</td>\n",
              "      <td>Unmarried</td>\n",
              "    </tr>\n",
              "    <tr>\n",
              "      <th>3</th>\n",
              "      <td>12.0</td>\n",
              "      <td>no</td>\n",
              "      <td>male</td>\n",
              "      <td>4.0</td>\n",
              "      <td>not_member</td>\n",
              "      <td>22.0</td>\n",
              "      <td>White</td>\n",
              "      <td>Other</td>\n",
              "      <td>Other</td>\n",
              "      <td>Unmarried</td>\n",
              "    </tr>\n",
              "    <tr>\n",
              "      <th>4</th>\n",
              "      <td>12.0</td>\n",
              "      <td>no</td>\n",
              "      <td>male</td>\n",
              "      <td>17.0</td>\n",
              "      <td>not_member</td>\n",
              "      <td>35.0</td>\n",
              "      <td>White</td>\n",
              "      <td>Other</td>\n",
              "      <td>Other</td>\n",
              "      <td>Married</td>\n",
              "    </tr>\n",
              "  </tbody>\n",
              "</table>\n",
              "</div>"
            ],
            "text/plain": [
              "   EDUCATION SOUTH     SEX  EXPERIENCE       UNION   AGE      RACE OCCUPATION  \\\n",
              "0        8.0    no  female        21.0  not_member  35.0  Hispanic      Other   \n",
              "1        9.0    no  female        42.0  not_member  57.0     White      Other   \n",
              "2       12.0    no    male         1.0  not_member  19.0     White      Other   \n",
              "3       12.0    no    male         4.0  not_member  22.0     White      Other   \n",
              "4       12.0    no    male        17.0  not_member  35.0     White      Other   \n",
              "\n",
              "          SECTOR       MARR  \n",
              "0  Manufacturing    Married  \n",
              "1  Manufacturing    Married  \n",
              "2  Manufacturing  Unmarried  \n",
              "3          Other  Unmarried  \n",
              "4          Other    Married  "
            ]
          },
          "execution_count": 14,
          "metadata": {},
          "output_type": "execute_result"
        }
      ],
      "source": [
        "X.head()"
      ]
    },
    {
      "cell_type": "code",
      "execution_count": 15,
      "metadata": {
        "colab": {
          "base_uri": "https://localhost:8080/"
        },
        "id": "HjZNYBaDV9a1",
        "outputId": "5a66d7c4-e8d8-4fcc-ba29-74711bea7d42"
      },
      "outputs": [
        {
          "data": {
            "text/plain": [
              "0    5.10\n",
              "1    4.95\n",
              "2    6.67\n",
              "3    4.00\n",
              "4    7.50\n",
              "Name: WAGE, dtype: float64"
            ]
          },
          "execution_count": 15,
          "metadata": {},
          "output_type": "execute_result"
        }
      ],
      "source": [
        "y = survey.target.values.ravel()\n",
        "survey.target.head()"
      ]
    },
    {
      "cell_type": "code",
      "execution_count": 16,
      "metadata": {
        "id": "DoO8ORNRWF9B"
      },
      "outputs": [],
      "source": [
        "from sklearn.model_selection import train_test_split\n",
        "\n",
        "X_train, X_test, y_train, y_test = train_test_split(X, y, random_state=42)"
      ]
    },
    {
      "cell_type": "code",
      "execution_count": 17,
      "metadata": {
        "colab": {
          "base_uri": "https://localhost:8080/",
          "height": 726
        },
        "id": "owxnpSRZWUB7",
        "outputId": "66a65beb-4a63-4c51-dc16-8711920ed9f9"
      },
      "outputs": [
        {
          "data": {
            "image/png": "[encoded data removed]",
            "text/plain": [
              "<Figure size 720x720 with 20 Axes>"
            ]
          },
          "metadata": {
            "needs_background": "light"
          },
          "output_type": "display_data"
        }
      ],
      "source": [
        "train_dataset = X_train.copy()\n",
        "train_dataset.insert(0, \"WAGE\", y_train)\n",
        "_ = sns.pairplot(train_dataset, kind=\"reg\", diag_kind=\"kde\")"
      ]
    },
    {
      "cell_type": "code",
      "execution_count": 18,
      "metadata": {
        "colab": {
          "base_uri": "https://localhost:8080/"
        },
        "id": "dQEOiiu3W49q",
        "outputId": "03bc0d5c-22a8-4162-8835-ce6346254a36"
      },
      "outputs": [
        {
          "name": "stdout",
          "output_type": "stream",
          "text": [
            "<class 'pandas.core.frame.DataFrame'>\n",
            "RangeIndex: 534 entries, 0 to 533\n",
            "Data columns (total 10 columns):\n",
            " #   Column      Non-Null Count  Dtype   \n",
            "---  ------      --------------  -----   \n",
            " 0   EDUCATION   534 non-null    float64 \n",
            " 1   SOUTH       534 non-null    category\n",
            " 2   SEX         534 non-null    category\n",
            " 3   EXPERIENCE  534 non-null    float64 \n",
            " 4   UNION       534 non-null    category\n",
            " 5   AGE         534 non-null    float64 \n",
            " 6   RACE        534 non-null    category\n",
            " 7   OCCUPATION  534 non-null    category\n",
            " 8   SECTOR      534 non-null    category\n",
            " 9   MARR        534 non-null    category\n",
            "dtypes: category(7), float64(3)\n",
            "memory usage: 17.2 KB\n"
          ]
        }
      ],
      "source": [
        "# check the type of data that we are dealing with\n",
        "survey.data.info()"
      ]
    },
    {
      "cell_type": "markdown",
      "metadata": {
        "id": "c8g3NxZOtxzi"
      },
      "source": [
        "## Linear regression without framework"
      ]
    },
    {
      "cell_type": "code",
      "execution_count": 19,
      "metadata": {
        "id": "Rgmd1HBgrICL"
      },
      "outputs": [],
      "source": [
        "import pandas as pd\n",
        "import seaborn as sns\n",
        "\n",
        "data = pd.read_csv(\"https://gist.githubusercontent.com/nstokoe/7d4717e96c21b8ad04ec91f361b000cb/raw/bf95a2e30fceb9f2ae990eac8379fc7d844a0196/weight-height.csv\")"
      ]
    },
    {
      "cell_type": "code",
      "execution_count": 20,
      "metadata": {
        "id": "vH-VyZfksKR_"
      },
      "outputs": [],
      "source": [
        "data_female = data[data.Gender == \"Female\"]\n",
        "X = data_female.Weight\n",
        "y = data_female.Height"
      ]
    },
    {
      "cell_type": "code",
      "execution_count": 21,
      "metadata": {
        "colab": {
          "base_uri": "https://localhost:8080/",
          "height": 282
        },
        "id": "U8z3EFjsuK6K",
        "outputId": "25e9147f-d0ba-4f1b-bfff-83959f6a7d24"
      },
      "outputs": [
        {
          "data": {
            "text/plain": [
              "<matplotlib.collections.PathCollection at 0x2b53bad8190>"
            ]
          },
          "execution_count": 21,
          "metadata": {},
          "output_type": "execute_result"
        },
        {
          "data": {
            "image/png": "[encoded data removed]",
            "text/plain": [
              "<Figure size 432x288 with 1 Axes>"
            ]
          },
          "metadata": {
            "needs_background": "light"
          },
          "output_type": "display_data"
        }
      ],
      "source": [
        "import matplotlib.pyplot as plt\n",
        "plt.scatter(X, y)"
      ]
    },
    {
      "cell_type": "code",
      "execution_count": 22,
      "metadata": {
        "colab": {
          "base_uri": "https://localhost:8080/"
        },
        "id": "uZqIWgG1uTTL",
        "outputId": "a1d3576e-8368-4eb0-8979-287bfe348fa7"
      },
      "outputs": [
        {
          "data": {
            "text/plain": [
              "135.86009300746835"
            ]
          },
          "execution_count": 22,
          "metadata": {},
          "output_type": "execute_result"
        }
      ],
      "source": [
        "Xmean = X.mean()\n",
        "Xmean"
      ]
    },
    {
      "cell_type": "code",
      "execution_count": 23,
      "metadata": {
        "colab": {
          "base_uri": "https://localhost:8080/",
          "height": 548
        },
        "id": "A3-t3ShYuZHE",
        "outputId": "0aad6a99-9631-442e-92b7-1470f8d2c641"
      },
      "outputs": [
        {
          "name": "stderr",
          "output_type": "stream",
          "text": [
            "C:\\Users\\Mateus\\AppData\\Local\\Temp\\ipykernel_9696\\3620538690.py:1: SettingWithCopyWarning: \n",
            "A value is trying to be set on a copy of a slice from a DataFrame.\n",
            "Try using .loc[row_indexer,col_indexer] = value instead\n",
            "\n",
            "See the caveats in the documentation: https://pandas.pydata.org/pandas-docs/stable/user_guide/indexing.html#returning-a-view-versus-a-copy\n",
            "  data_female['diffx'] = Xmean - X\n"
          ]
        },
        {
          "data": {
            "text/html": [
              "<div>\n",
              "<style scoped>\n",
              "    .dataframe tbody tr th:only-of-type {\n",
              "        vertical-align: middle;\n",
              "    }\n",
              "\n",
              "    .dataframe tbody tr th {\n",
              "        vertical-align: top;\n",
              "    }\n",
              "\n",
              "    .dataframe thead th {\n",
              "        text-align: right;\n",
              "    }\n",
              "</style>\n",
              "<table border=\"1\" class=\"dataframe\">\n",
              "  <thead>\n",
              "    <tr style=\"text-align: right;\">\n",
              "      <th></th>\n",
              "      <th>Gender</th>\n",
              "      <th>Height</th>\n",
              "      <th>Weight</th>\n",
              "      <th>diffx</th>\n",
              "    </tr>\n",
              "  </thead>\n",
              "  <tbody>\n",
              "    <tr>\n",
              "      <th>5000</th>\n",
              "      <td>Female</td>\n",
              "      <td>58.910732</td>\n",
              "      <td>102.088326</td>\n",
              "      <td>33.771767</td>\n",
              "    </tr>\n",
              "    <tr>\n",
              "      <th>5001</th>\n",
              "      <td>Female</td>\n",
              "      <td>65.230013</td>\n",
              "      <td>141.305823</td>\n",
              "      <td>-5.445730</td>\n",
              "    </tr>\n",
              "    <tr>\n",
              "      <th>5002</th>\n",
              "      <td>Female</td>\n",
              "      <td>63.369004</td>\n",
              "      <td>131.041403</td>\n",
              "      <td>4.818690</td>\n",
              "    </tr>\n",
              "    <tr>\n",
              "      <th>5003</th>\n",
              "      <td>Female</td>\n",
              "      <td>64.479997</td>\n",
              "      <td>128.171511</td>\n",
              "      <td>7.688582</td>\n",
              "    </tr>\n",
              "    <tr>\n",
              "      <th>5004</th>\n",
              "      <td>Female</td>\n",
              "      <td>61.793096</td>\n",
              "      <td>129.781407</td>\n",
              "      <td>6.078686</td>\n",
              "    </tr>\n",
              "    <tr>\n",
              "      <th>...</th>\n",
              "      <td>...</td>\n",
              "      <td>...</td>\n",
              "      <td>...</td>\n",
              "      <td>...</td>\n",
              "    </tr>\n",
              "    <tr>\n",
              "      <th>9995</th>\n",
              "      <td>Female</td>\n",
              "      <td>66.172652</td>\n",
              "      <td>136.777454</td>\n",
              "      <td>-0.917361</td>\n",
              "    </tr>\n",
              "    <tr>\n",
              "      <th>9996</th>\n",
              "      <td>Female</td>\n",
              "      <td>67.067155</td>\n",
              "      <td>170.867906</td>\n",
              "      <td>-35.007813</td>\n",
              "    </tr>\n",
              "    <tr>\n",
              "      <th>9997</th>\n",
              "      <td>Female</td>\n",
              "      <td>63.867992</td>\n",
              "      <td>128.475319</td>\n",
              "      <td>7.384774</td>\n",
              "    </tr>\n",
              "    <tr>\n",
              "      <th>9998</th>\n",
              "      <td>Female</td>\n",
              "      <td>69.034243</td>\n",
              "      <td>163.852461</td>\n",
              "      <td>-27.992368</td>\n",
              "    </tr>\n",
              "    <tr>\n",
              "      <th>9999</th>\n",
              "      <td>Female</td>\n",
              "      <td>61.944246</td>\n",
              "      <td>113.649103</td>\n",
              "      <td>22.210990</td>\n",
              "    </tr>\n",
              "  </tbody>\n",
              "</table>\n",
              "<p>5000 rows × 4 columns</p>\n",
              "</div>"
            ],
            "text/plain": [
              "      Gender     Height      Weight      diffx\n",
              "5000  Female  58.910732  102.088326  33.771767\n",
              "5001  Female  65.230013  141.305823  -5.445730\n",
              "5002  Female  63.369004  131.041403   4.818690\n",
              "5003  Female  64.479997  128.171511   7.688582\n",
              "5004  Female  61.793096  129.781407   6.078686\n",
              "...      ...        ...         ...        ...\n",
              "9995  Female  66.172652  136.777454  -0.917361\n",
              "9996  Female  67.067155  170.867906 -35.007813\n",
              "9997  Female  63.867992  128.475319   7.384774\n",
              "9998  Female  69.034243  163.852461 -27.992368\n",
              "9999  Female  61.944246  113.649103  22.210990\n",
              "\n",
              "[5000 rows x 4 columns]"
            ]
          },
          "execution_count": 23,
          "metadata": {},
          "output_type": "execute_result"
        }
      ],
      "source": [
        "data_female['diffx'] = Xmean - X\n",
        "data_female"
      ]
    },
    {
      "cell_type": "code",
      "execution_count": 24,
      "metadata": {
        "colab": {
          "base_uri": "https://localhost:8080/"
        },
        "id": "nVNcKt_PunxE",
        "outputId": "5db42459-4e5a-4022-ae43-6a8f45a808bb"
      },
      "outputs": [
        {
          "name": "stderr",
          "output_type": "stream",
          "text": [
            "C:\\Users\\Mateus\\AppData\\Local\\Temp\\ipykernel_9696\\1315967340.py:1: SettingWithCopyWarning: \n",
            "A value is trying to be set on a copy of a slice from a DataFrame.\n",
            "Try using .loc[row_indexer,col_indexer] = value instead\n",
            "\n",
            "See the caveats in the documentation: https://pandas.pydata.org/pandas-docs/stable/user_guide/indexing.html#returning-a-view-versus-a-copy\n",
            "  data_female[\"diffx_squared\"] = data_female.diffx**2\n"
          ]
        }
      ],
      "source": [
        "data_female[\"diffx_squared\"] = data_female.diffx**2\n",
        "SSxx = data_female.diffx_squared.sum()"
      ]
    },
    {
      "cell_type": "code",
      "execution_count": 25,
      "metadata": {
        "id": "rHTWJvwXu3AM"
      },
      "outputs": [],
      "source": [
        "ymean = y.mean()"
      ]
    },
    {
      "cell_type": "code",
      "execution_count": 26,
      "metadata": {
        "colab": {
          "base_uri": "https://localhost:8080/"
        },
        "id": "zOBzOUiwu7xP",
        "outputId": "0d757b4b-5510-434b-dcb3-61ac64ad2f33"
      },
      "outputs": [
        {
          "name": "stderr",
          "output_type": "stream",
          "text": [
            "C:\\Users\\Mateus\\AppData\\Local\\Temp\\ipykernel_9696\\450541442.py:1: SettingWithCopyWarning: \n",
            "A value is trying to be set on a copy of a slice from a DataFrame.\n",
            "Try using .loc[row_indexer,col_indexer] = value instead\n",
            "\n",
            "See the caveats in the documentation: https://pandas.pydata.org/pandas-docs/stable/user_guide/indexing.html#returning-a-view-versus-a-copy\n",
            "  data_female['diffy'] = ymean - y\n"
          ]
        }
      ],
      "source": [
        "data_female['diffy'] = ymean - y"
      ]
    },
    {
      "cell_type": "code",
      "execution_count": 27,
      "metadata": {
        "id": "JX2OAGfTvAx5"
      },
      "outputs": [],
      "source": [
        "SSxy = (data_female.diffx * data_female.diffy).sum()"
      ]
    },
    {
      "cell_type": "code",
      "execution_count": 28,
      "metadata": {
        "colab": {
          "base_uri": "https://localhost:8080/"
        },
        "id": "1XuQttSWvJ0b",
        "outputId": "dcbecf2b-24a6-4721-a6b9-af08cd532409"
      },
      "outputs": [
        {
          "data": {
            "text/plain": [
              "0.12042528278366127"
            ]
          },
          "execution_count": 28,
          "metadata": {},
          "output_type": "execute_result"
        }
      ],
      "source": [
        "m = SSxy/SSxx\n",
        "m"
      ]
    },
    {
      "cell_type": "code",
      "execution_count": 29,
      "metadata": {
        "colab": {
          "base_uri": "https://localhost:8080/"
        },
        "id": "bJ46i3QHvPeS",
        "outputId": "d4578da5-5cde-4e58-c29f-6f5ce2dbd652"
      },
      "outputs": [
        {
          "data": {
            "text/plain": [
              "47.34778348398618"
            ]
          },
          "execution_count": 29,
          "metadata": {},
          "output_type": "execute_result"
        }
      ],
      "source": [
        "b = ymean - m * Xmean\n",
        "b"
      ]
    },
    {
      "cell_type": "code",
      "execution_count": 30,
      "metadata": {
        "colab": {
          "base_uri": "https://localhost:8080/"
        },
        "id": "5JWFkR0bvVSo",
        "outputId": "776b4b54-2dc7-4966-9e2c-7d523e202418"
      },
      "outputs": [
        {
          "data": {
            "text/plain": [
              "64.20732307369876"
            ]
          },
          "execution_count": 30,
          "metadata": {},
          "output_type": "execute_result"
        }
      ],
      "source": [
        "def predict(value):\n",
        "  predict = m*value + b\n",
        "  return predict\n",
        "\n",
        "predict(140)"
      ]
    },
    {
      "cell_type": "code",
      "execution_count": 31,
      "metadata": {
        "colab": {
          "base_uri": "https://localhost:8080/",
          "height": 282
        },
        "id": "btDfv1_KvkDm",
        "outputId": "e101eab3-5df2-456e-8a2b-1458fc606690"
      },
      "outputs": [
        {
          "data": {
            "text/plain": [
              "[<matplotlib.lines.Line2D at 0x2b53be33190>]"
            ]
          },
          "execution_count": 31,
          "metadata": {},
          "output_type": "execute_result"
        },
        {
          "data": {
            "image/png": "[encoded data removed]",
            "text/plain": [
              "<Figure size 432x288 with 1 Axes>"
            ]
          },
          "metadata": {
            "needs_background": "light"
          },
          "output_type": "display_data"
        }
      ],
      "source": [
        "plt.scatter(X, y)\n",
        "plt.plot(X, predict(X), \"r\")"
      ]
    },
    {
      "cell_type": "markdown",
      "metadata": {
        "id": "jWcPN19_02Ty"
      },
      "source": [
        "### Bibliography\n",
        "https://en.wikipedia.org/wiki/Ridge_regression#:~:text=Ridge%20regression%20is%20a%20method,econometrics%2C%20chemistry%2C%20and%20engineering.\n",
        "https://en.wikipedia.org/wiki/Multicollinearity\n",
        "\n",
        "https://www.analyticsvidhya.com/blog/2020/03/what-is-multicollinearity/#:~:text=Multicollinearity%20occurs%20when%20two%20or,variable%20in%20a%20regression%20model.\n",
        "\n",
        "Géroin[2019] pp.137-139\n"
      ]
    }
  ],
  "metadata": {
    "colab": {
      "collapsed_sections": [],
      "name": "ML 1 (OLS / LR).ipynb",
      "provenance": []
    },
    "kernelspec": {
      "display_name": "Python 3.10.4 64-bit",
      "language": "python",
      "name": "python3"
    },
    "language_info": {
      "codemirror_mode": {
        "name": "ipython",
        "version": 3
      },
      "file_extension": ".py",
      "mimetype": "text/x-python",
      "name": "python",
      "nbconvert_exporter": "python",
      "pygments_lexer": "ipython3",
      "version": "3.10.4"
    },
    "vscode": {
      "interpreter": {
        "hash": "369f2c481f4da34e4445cda3fffd2e751bd1c4d706f27375911949ba6bb62e1c"
      }
    }
  },
  "nbformat": 4,
  "nbformat_minor": 0
}
